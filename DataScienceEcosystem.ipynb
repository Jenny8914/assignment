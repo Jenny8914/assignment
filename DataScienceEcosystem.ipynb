{
 "cells": [
  {
   "cell_type": "markdown",
   "id": "dfb3be40-948c-49dd-8f2c-eef57d92434c",
   "metadata": {
    "tags": []
   },
   "source": [
    "# Data Science Tools and Ecosystem\n",
    "In this notebook, Data Science Tools and Ecosystem are summarized."
   ]
  },
  {
   "cell_type": "markdown",
   "id": "29b73d99-3964-4037-998e-a084eb87a0fa",
   "metadata": {
    "tags": []
   },
   "source": [
    "# Some of the popular languages that Data Scientists use are:\n",
    "1. R\n",
    "2. Python\n",
    "3. Scala\n",
    "4. SQL\n",
    "5. Matlab"
   ]
  },
  {
   "cell_type": "markdown",
   "id": "4284aa74-5fb4-4652-9a0c-f56a72f3d4ee",
   "metadata": {},
   "source": [
    "# Some of the commonly used libraries used by Data Scientists include:\n",
    "1. NumPy\n",
    "2. Keras\n",
    "3. SciPy"
   ]
  },
  {
   "cell_type": "markdown",
   "id": "0741f4a5-4869-4384-ad35-050058c8b42b",
   "metadata": {},
   "source": [
    "| Data Science Tools |\n",
    "| -------------------|\n",
    "| Development Server |\n",
    "|  Staging Server    |\n",
    "| Production Server  |"
   ]
  },
  {
   "cell_type": "markdown",
   "id": "3099e1f5-1b79-44cc-b035-19f5091924b8",
   "metadata": {},
   "source": [
    "### Below are a few examples of evaluating arithmetic expressions in Python\n"
   ]
  },
  {
   "cell_type": "code",
   "execution_count": null,
   "id": "e771cd6d-735e-42cb-8e14-973bfb6785a4",
   "metadata": {
    "tags": []
   },
   "outputs": [],
   "source": [
    " # This a simple arithmetic expression to mutiply then add integers.\n",
    " print(3*4)+5"
   ]
  },
  {
   "cell_type": "code",
   "execution_count": null,
   "id": "d5f83e34-e296-497b-97f4-01051b54a104",
   "metadata": {},
   "outputs": [],
   "source": []
  }
 ],
 "metadata": {
  "kernelspec": {
   "display_name": "Python",
   "language": "python",
   "name": "conda-env-python-py"
  },
  "language_info": {
   "codemirror_mode": {
    "name": "ipython",
    "version": 3
   },
   "file_extension": ".py",
   "mimetype": "text/x-python",
   "name": "python",
   "nbconvert_exporter": "python",
   "pygments_lexer": "ipython3",
   "version": "3.7.12"
  }
 },
 "nbformat": 4,
 "nbformat_minor": 5
}
